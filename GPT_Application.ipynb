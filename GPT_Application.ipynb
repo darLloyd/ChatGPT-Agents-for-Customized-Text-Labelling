{
  "nbformat": 4,
  "nbformat_minor": 0,
  "metadata": {
    "colab": {
      "provenance": []
    },
    "kernelspec": {
      "name": "python3",
      "display_name": "Python 3"
    },
    "language_info": {
      "name": "python"
    }
  },
  "cells": [
    {
      "cell_type": "markdown",
      "source": [
        "# **Introduction**\n",
        "\n",
        "The aim of this mini project is to illustrate applicability of Gen AI agents in labelling reviews based on a list predefined categories. We simply define each category and the agents will apply the relevant label. This approach can be used on several types of datasets in different scenarios.\n",
        "\n",
        "The data for this project was taken from kaggle [128k Airline Reviews Dataset](https://www.kaggle.com/datasets/joelljungstrom/128k-airline-reviews)."
      ],
      "metadata": {
        "id": "BDpWKK4cH2qH"
      }
    },
    {
      "cell_type": "code",
      "source": [
        "# loading of necessary packages\n",
        "\n",
        "import pandas as pd\n",
        "pd.options.display.show_dimensions = False\n",
        "import random\n",
        "random.seed(42)\n",
        "import json\n",
        "import os\n",
        "from google.colab import userdata\n",
        "api_key = userdata.get('API_OpenAI')\n",
        "\n",
        "# Set the environment variable\n",
        "os.environ['OPENAI_API_KEY'] = api_key\n"
      ],
      "metadata": {
        "id": "1xVdCeeFyBMM"
      },
      "execution_count": 57,
      "outputs": []
    },
    {
      "cell_type": "code",
      "execution_count": 58,
      "metadata": {
        "id": "oErDDQutp1b8",
        "collapsed": true
      },
      "outputs": [],
      "source": [
        "%%capture\n",
        "pip install --upgrade openai"
      ]
    },
    {
      "cell_type": "code",
      "source": [
        "import openai\n",
        "\n",
        "# Get the API key from the environment variable\n",
        "openai_api_key = os.getenv('OPENAI_API_KEY')\n",
        "\n",
        "if openai_api_key is None:\n",
        "    raise ValueError(\"No OPENAI_API_KEY found in environment variables\")\n",
        "\n",
        "openai.api_key = openai_api_key"
      ],
      "metadata": {
        "id": "L8fNGel9e3JF"
      },
      "execution_count": 59,
      "outputs": []
    },
    {
      "cell_type": "markdown",
      "source": [
        "Here we import openai and check for the API key."
      ],
      "metadata": {
        "id": "P6bd7HQ_K7mR"
      }
    },
    {
      "cell_type": "code",
      "source": [
        "from openai import OpenAI\n",
        "client = OpenAI()\n",
        "\n",
        "model=\"gpt-4o-mini-2024-07-18\"\n",
        "temperature=0.2"
      ],
      "metadata": {
        "id": "EiFWgQnbe3UN"
      },
      "execution_count": 60,
      "outputs": []
    },
    {
      "cell_type": "code",
      "source": [],
      "metadata": {
        "id": "puTuClpdgcw3"
      },
      "execution_count": 60,
      "outputs": []
    },
    {
      "cell_type": "code",
      "source": [
        "def get_chat_gpt_response(prompt, model=model, temperature=temperature):\n",
        "    response = client.chat.completions.create(\n",
        "        model=model,\n",
        "        messages=[\n",
        "            {\"role\": \"system\", \"content\": \"You are a helpful assistant.\"},\n",
        "            {\"role\": \"user\", \"content\": prompt},\n",
        "        ],\n",
        "        max_tokens=200,\n",
        "        n=1, # we only need one response to the parameter is set to 1\n",
        "        stop=None,\n",
        "        temperature=temperature\n",
        "    )\n",
        "\n",
        "    return response.choices[0].message.content.strip()  # Accesses the response from the message object\n"
      ],
      "metadata": {
        "id": "vMCvd3FAgc0B"
      },
      "execution_count": 61,
      "outputs": []
    },
    {
      "cell_type": "markdown",
      "source": [
        " We define the above function to handle the API call, retrieve the response, and return a clean text output."
      ],
      "metadata": {
        "id": "kd6IqFzIMiDc"
      }
    },
    {
      "cell_type": "code",
      "source": [
        "from google.colab import drive\n",
        "drive.mount('/content/drive')"
      ],
      "metadata": {
        "colab": {
          "base_uri": "https://localhost:8080/"
        },
        "id": "qYM_wB9ZM3oq",
        "outputId": "1f789744-bb64-4053-c5df-186b83690bb4"
      },
      "execution_count": 62,
      "outputs": [
        {
          "output_type": "stream",
          "name": "stdout",
          "text": [
            "Drive already mounted at /content/drive; to attempt to forcibly remount, call drive.mount(\"/content/drive\", force_remount=True).\n"
          ]
        }
      ]
    },
    {
      "cell_type": "code",
      "source": [],
      "metadata": {
        "id": "T3Qbf__qXjG5"
      },
      "execution_count": 62,
      "outputs": []
    },
    {
      "cell_type": "markdown",
      "source": [
        "### **Loading the Airline Review Data and the Pre-Defined Categories.**"
      ],
      "metadata": {
        "id": "00Y_S6rDYJRD"
      }
    },
    {
      "cell_type": "code",
      "source": [
        "airline_review_catigories = pd.read_excel('/content/drive/MyDrive/gpt_project_1/aline_review_cat_def.xlsx')\n",
        "airline_reviews = pd.read_excel('/content/drive/MyDrive/gpt_project_1/airline_data.xlsx')\n"
      ],
      "metadata": {
        "id": "v2NsSOuBYO1N"
      },
      "execution_count": 63,
      "outputs": []
    },
    {
      "cell_type": "code",
      "source": [
        "for index, row in airline_review_catigories.iterrows():\n",
        "    category = row['Category']\n",
        "    definition = row['Details']\n",
        "    print(f\"{category}: {definition}\\n\")"
      ],
      "metadata": {
        "colab": {
          "base_uri": "https://localhost:8080/"
        },
        "id": "ocXcBf3iN2pj",
        "outputId": "36d1533d-de57-4a9f-e94d-afde7f9f18f4"
      },
      "execution_count": 64,
      "outputs": [
        {
          "output_type": "stream",
          "name": "stdout",
          "text": [
            "Pre-Flight Preparation: Experience with the online platform when Booking, selecting the flight, searching for available dates, promotion and flight availability. It also covers experience with the functionality of the website. Booking done through travel agencies are further covered in this section.\n",
            "Experience related to the airline baggage policy before having arrived at the airport. This might include carry on policy, checkin bag policy and free bag allowance and dimention policy.\n",
            "Experience with Completing online check-in  or at the airport counter, selecting seats, and checking baggage.\n",
            "\n",
            "At the Airport: Experience about time arriving at the airport before departure.\n",
            "Passing through security checkpoints, removing liquids and electronics from bags.\n",
            "Experience revolving around presenting of  passport and visa  to immigration officials.\n",
            "Experience related to finding the boarding gate or distance to the boarding gate.\n",
            "\n",
            "\n",
            "\n",
            "\n",
            "Boarding and Takeoff: Experience related with showing boarding pass to the airline staff or incorrect boarding pass.\n",
            "Experience about baggage not being allowed during boarding, or oversized bagggage in the cabin, or no space in the cabin for bags or being charged extra for bags at boarding.\n",
            "Seating Experience on the plane and stowing your carry-on luggage.\n",
            "Experience about flight attendants' instructions on safety procedures.\n",
            "Any Experience or mentions related to the plane moving from the gate to the runway especially if it's late.\n",
            "Any Experience when  the plane was accelerating down the runway or lifting off into the air.\n",
            "\n",
            "In-Flight: Experience about the service experienced in the cabin. For example mentions related to meals, drinks, entertainment or the rest room.\n",
            "Experience related to seating comfort or seating loacation.\n",
            "Experience related to turbulance or incidents which took place during the flight.\n",
            "\n",
            "\n",
            "\n",
            "Landing and Arrival: The plane gradually lowering its altitude for landing.\n",
            "Mentions involving landing , when the plane touching down on the runway and coming to a stop.\n",
            "Mentions of the process Gathering your belongings and leaving the plane or the time taken to leave the plane.\n",
            "Mentions of the experience from the plane to the arrival hall. Whether by a bus, walking or tube.\n",
            "Mentions of experience when retrieving luggage from the baggage carousel or baggage claims.\n",
            "Mentions of experience at arrival customes or immigration.\n",
            "\n",
            "\n",
            "\n",
            "\n",
            "Post-Flight: Any mention of experience which occurred after leaving the arrival airport or destination.\n",
            "\n",
            "None related Category:       Any other issue or mention which does not relate to any of the categories listed in the Category section.\n",
            "\n"
          ]
        }
      ]
    },
    {
      "cell_type": "markdown",
      "source": [
        "*Here we have a look at each category and their respective definition. We are interested in grouping the reviews into 6 specific categories (Pre-Flight Preparation, At the Airport, Boarding and Takeoff, In-Flight, Landing and Arrival and Post-Flight), any other review will be labelled \"None related\".*"
      ],
      "metadata": {
        "id": "TWXHgIbnOrsd"
      }
    },
    {
      "cell_type": "code",
      "source": [
        "airline_reviews.info()"
      ],
      "metadata": {
        "colab": {
          "base_uri": "https://localhost:8080/"
        },
        "id": "lWyEKeEYZF-5",
        "outputId": "051f62e7-4394-4d3b-9bbd-7b3b90a292b9"
      },
      "execution_count": 65,
      "outputs": [
        {
          "output_type": "stream",
          "name": "stdout",
          "text": [
            "<class 'pandas.core.frame.DataFrame'>\n",
            "RangeIndex: 128630 entries, 0 to 128629\n",
            "Data columns (total 2 columns):\n",
            " #   Column       Non-Null Count   Dtype \n",
            "---  ------       --------------   ----- \n",
            " 0   AirlineName  128630 non-null  object\n",
            " 1   Review       128630 non-null  object\n",
            "dtypes: object(2)\n",
            "memory usage: 2.0+ MB\n"
          ]
        }
      ]
    },
    {
      "cell_type": "code",
      "source": [
        "airline_reviews_subset = airline_reviews.sample(n=50).reset_index(drop=True) #taking a random sample of 50 reviews"
      ],
      "metadata": {
        "id": "BtZ1SCAVcAgM"
      },
      "execution_count": 66,
      "outputs": []
    },
    {
      "cell_type": "code",
      "source": [
        "airline_reviews[\"Review\"][5] #Examining a random review"
      ],
      "metadata": {
        "colab": {
          "base_uri": "https://localhost:8080/",
          "height": 52
        },
        "id": "FikNO-jjZWz8",
        "outputId": "b6bdce37-cd5f-45c3-8a15-d7013bc70bf5"
      },
      "execution_count": 67,
      "outputs": [
        {
          "output_type": "execute_result",
          "data": {
            "text/plain": [
              "'What a wonderful friendly airline. Flew with them Hholguin to Havana and back. Both flights only minor delays was served juice and a cake on this short internal flight safety demonstration was done.'"
            ],
            "application/vnd.google.colaboratory.intrinsic+json": {
              "type": "string"
            }
          },
          "metadata": {},
          "execution_count": 67
        }
      ]
    },
    {
      "cell_type": "code",
      "source": [],
      "metadata": {
        "id": "7aE_HzxAWMAq"
      },
      "execution_count": 67,
      "outputs": []
    },
    {
      "cell_type": "markdown",
      "source": [
        "**Preprocessing of the Data:**\n",
        "- Removal of unnecessary white spaces\n",
        "- Converting the dataframe to a dictionary"
      ],
      "metadata": {
        "id": "51VSdBXYWfOC"
      }
    },
    {
      "cell_type": "code",
      "source": [
        "airline_review_catigories['Details'] = airline_review_catigories['Details'].str.replace('\\n', ' ')"
      ],
      "metadata": {
        "id": "1DFWXD-D3Qza"
      },
      "execution_count": 68,
      "outputs": []
    },
    {
      "cell_type": "code",
      "source": [
        "airline_review_catigories['Details']"
      ],
      "metadata": {
        "colab": {
          "base_uri": "https://localhost:8080/",
          "height": 477
        },
        "id": "3w_hNXwN36Ij",
        "outputId": "77366fea-6833-484b-b721-2726a6350580"
      },
      "execution_count": 69,
      "outputs": [
        {
          "output_type": "execute_result",
          "data": {
            "text/plain": [
              "0                                       Experience with the online platform when Booking, selecting the flight, searching for available dates, promotion and flight availability. It also covers experience with the functionality of the website. Booking done through travel agencies are further covered in this section. Experience related to the airline baggage policy before having arrived at the airport. This might include carry on policy, checkin bag policy and free bag allowance and dimention policy. Experience with Completing online check-in  or at the airport counter, selecting seats, and checking baggage.\n",
              "1                                                                                                                                                                                                                                                                                                      Experience about time arriving at the airport before departure. Passing through security checkpoints, removing liquids and electronics from bags. Experience revolving around presenting of  passport and visa  to immigration officials. Experience related to finding the boarding gate or distance to the boarding gate.   \n",
              "2    Experience related with showing boarding pass to the airline staff or incorrect boarding pass. Experience about baggage not being allowed during boarding, or oversized bagggage in the cabin, or no space in the cabin for bags or being charged extra for bags at boarding. Seating Experience on the plane and stowing your carry-on luggage. Experience about flight attendants' instructions on safety procedures. Any Experience or mentions related to the plane moving from the gate to the runway especially if it's late. Any Experience when  the plane was accelerating down the runway or lifting off into the air.\n",
              "3                                                                                                                                                                                                                                                                                                                                               Experience about the service experienced in the cabin. For example mentions related to meals, drinks, entertainment or the rest room. Experience related to seating comfort or seating loacation. Experience related to turbulance or incidents which took place during the flight.  \n",
              "4                                                                                                      The plane gradually lowering its altitude for landing. Mentions involving landing , when the plane touching down on the runway and coming to a stop. Mentions of the process Gathering your belongings and leaving the plane or the time taken to leave the plane. Mentions of the experience from the plane to the arrival hall. Whether by a bus, walking or tube. Mentions of experience when retrieving luggage from the baggage carousel or baggage claims. Mentions of experience at arrival customes or immigration.   \n",
              "5                                                                                                                                                                                                                                                                                                                                                                                                                                                                                                                                          Any mention of experience which occurred after leaving the arrival airport or destination.\n",
              "6                                                                                                                                                                                                                                                                                                                                                                                                                                                                                                                           Any other issue or mention which does not relate to any of the categories listed in the Category section.\n",
              "Name: Details, dtype: object"
            ],
            "text/html": [
              "<div>\n",
              "<style scoped>\n",
              "    .dataframe tbody tr th:only-of-type {\n",
              "        vertical-align: middle;\n",
              "    }\n",
              "\n",
              "    .dataframe tbody tr th {\n",
              "        vertical-align: top;\n",
              "    }\n",
              "\n",
              "    .dataframe thead th {\n",
              "        text-align: right;\n",
              "    }\n",
              "</style>\n",
              "<table border=\"1\" class=\"dataframe\">\n",
              "  <thead>\n",
              "    <tr style=\"text-align: right;\">\n",
              "      <th></th>\n",
              "      <th>Details</th>\n",
              "    </tr>\n",
              "  </thead>\n",
              "  <tbody>\n",
              "    <tr>\n",
              "      <th>0</th>\n",
              "      <td>Experience with the online platform when Booking, selecting the flight, searching for available dates, promotion and flight availability. It also covers experience with the functionality of the website. Booking done through travel agencies are further covered in this section. Experience related to the airline baggage policy before having arrived at the airport. This might include carry on policy, checkin bag policy and free bag allowance and dimention policy. Experience with Completing online check-in  or at the airport counter, selecting seats, and checking baggage.</td>\n",
              "    </tr>\n",
              "    <tr>\n",
              "      <th>1</th>\n",
              "      <td>Experience about time arriving at the airport before departure. Passing through security checkpoints, removing liquids and electronics from bags. Experience revolving around presenting of  passport and visa  to immigration officials. Experience related to finding the boarding gate or distance to the boarding gate.</td>\n",
              "    </tr>\n",
              "    <tr>\n",
              "      <th>2</th>\n",
              "      <td>Experience related with showing boarding pass to the airline staff or incorrect boarding pass. Experience about baggage not being allowed during boarding, or oversized bagggage in the cabin, or no space in the cabin for bags or being charged extra for bags at boarding. Seating Experience on the plane and stowing your carry-on luggage. Experience about flight attendants' instructions on safety procedures. Any Experience or mentions related to the plane moving from the gate to the runway especially if it's late. Any Experience when  the plane was accelerating down the runway or lifting off into the air.</td>\n",
              "    </tr>\n",
              "    <tr>\n",
              "      <th>3</th>\n",
              "      <td>Experience about the service experienced in the cabin. For example mentions related to meals, drinks, entertainment or the rest room. Experience related to seating comfort or seating loacation. Experience related to turbulance or incidents which took place during the flight.</td>\n",
              "    </tr>\n",
              "    <tr>\n",
              "      <th>4</th>\n",
              "      <td>The plane gradually lowering its altitude for landing. Mentions involving landing , when the plane touching down on the runway and coming to a stop. Mentions of the process Gathering your belongings and leaving the plane or the time taken to leave the plane. Mentions of the experience from the plane to the arrival hall. Whether by a bus, walking or tube. Mentions of experience when retrieving luggage from the baggage carousel or baggage claims. Mentions of experience at arrival customes or immigration.</td>\n",
              "    </tr>\n",
              "    <tr>\n",
              "      <th>5</th>\n",
              "      <td>Any mention of experience which occurred after leaving the arrival airport or destination.</td>\n",
              "    </tr>\n",
              "    <tr>\n",
              "      <th>6</th>\n",
              "      <td>Any other issue or mention which does not relate to any of the categories listed in the Category section.</td>\n",
              "    </tr>\n",
              "  </tbody>\n",
              "</table>\n",
              "</div><br><label><b>dtype:</b> object</label>"
            ]
          },
          "metadata": {},
          "execution_count": 69
        }
      ]
    },
    {
      "cell_type": "code",
      "source": [
        "airline_review_dic_cat  = airline_review_catigories.set_index('Category')['Details'].to_dict() #creates a dictionary with Category as Keys and Details as values."
      ],
      "metadata": {
        "id": "Qhg2rqhu5vn8"
      },
      "execution_count": 70,
      "outputs": []
    },
    {
      "cell_type": "code",
      "source": [
        "airline_review_dic_cat.items()"
      ],
      "metadata": {
        "colab": {
          "base_uri": "https://localhost:8080/"
        },
        "id": "mfQY_Eja6hsw",
        "outputId": "4f7b52e3-6c12-427f-f4c6-3fd116dc2dc7"
      },
      "execution_count": 71,
      "outputs": [
        {
          "output_type": "execute_result",
          "data": {
            "text/plain": [
              "dict_items([('Pre-Flight Preparation', 'Experience with the online platform when Booking, selecting the flight, searching for available dates, promotion and flight availability. It also covers experience with the functionality of the website. Booking done through travel agencies are further covered in this section. Experience related to the airline baggage policy before having arrived at the airport. This might include carry on policy, checkin bag policy and free bag allowance and dimention policy. Experience with Completing online check-in  or at the airport counter, selecting seats, and checking baggage.'), ('At the Airport', 'Experience about time arriving at the airport before departure. Passing through security checkpoints, removing liquids and electronics from bags. Experience revolving around presenting of  passport and visa  to immigration officials. Experience related to finding the boarding gate or distance to the boarding gate.   '), ('Boarding and Takeoff', \"Experience related with showing boarding pass to the airline staff or incorrect boarding pass. Experience about baggage not being allowed during boarding, or oversized bagggage in the cabin, or no space in the cabin for bags or being charged extra for bags at boarding. Seating Experience on the plane and stowing your carry-on luggage. Experience about flight attendants' instructions on safety procedures. Any Experience or mentions related to the plane moving from the gate to the runway especially if it's late. Any Experience when  the plane was accelerating down the runway or lifting off into the air.\"), ('In-Flight', 'Experience about the service experienced in the cabin. For example mentions related to meals, drinks, entertainment or the rest room. Experience related to seating comfort or seating loacation. Experience related to turbulance or incidents which took place during the flight.  '), ('Landing and Arrival', 'The plane gradually lowering its altitude for landing. Mentions involving landing , when the plane touching down on the runway and coming to a stop. Mentions of the process Gathering your belongings and leaving the plane or the time taken to leave the plane. Mentions of the experience from the plane to the arrival hall. Whether by a bus, walking or tube. Mentions of experience when retrieving luggage from the baggage carousel or baggage claims. Mentions of experience at arrival customes or immigration.   '), ('Post-Flight', 'Any mention of experience which occurred after leaving the arrival airport or destination.'), ('None related Category', '      Any other issue or mention which does not relate to any of the categories listed in the Category section.')])"
            ]
          },
          "metadata": {},
          "execution_count": 71
        }
      ]
    },
    {
      "cell_type": "markdown",
      "source": [
        "## Definition of Agents\n",
        "\n",
        "Here we define two agents:\n",
        "\n",
        "- A first \"text Agent\" who is responsible for the initional labelling based on the pre-defined categories.\n",
        "- A second \"examiner Agent\" who is responsible for checking the results of the first agent and making any needed corrections.\n",
        "\n"
      ],
      "metadata": {
        "id": "6I3MKIEMXMSk"
      }
    },
    {
      "cell_type": "markdown",
      "source": [
        "### **Text Agent**\n",
        "\n",
        "Prompts:\n",
        "\n",
        "1: *You are an expert agent trained to analyse and categorize user feedback based on predefined labeles. Here are the categories and their meanings.*\n",
        "\n",
        "2: *Examine the text, and in no more than 50 words, tell me which one of the category it relates to and why.*\n",
        "\n",
        "3: *Output JSON with Key being the Category and Value being your reason. Do not include any JSON formatting or code block markers.*\n",
        "\n",
        "4: *Only use information which was provided here.*"
      ],
      "metadata": {
        "id": "6hpX2qadXY6j"
      }
    },
    {
      "cell_type": "code",
      "source": [
        "def text_agent(text, given_catigories):\n",
        "  prompt = \"You are an expert agent trained to analyse and categorize user feedback based on predefined labeles. Here are the categories and their meanings:\\n\\n\"\n",
        "\n",
        "  for category, meaning in given_catigories.items():\n",
        "    prompt += f\"{category}: {meaning}\\n\"\n",
        "\n",
        "  prompt += \"\\Examine the text: \\\" \" + text + \"\\\", and in no more than 50 words, tell me which one of the category it relates to and why.\"\n",
        "  prompt += \"\\Output JSON with Key being the Category and Value being your reason. Do not include any JSON formatting or code block markers.\"\n",
        "  prompt += \"\\Only use information which was provided here.\"\n",
        "\n",
        "  return prompt"
      ],
      "metadata": {
        "id": "LdlEpcMo6kI6"
      },
      "execution_count": 72,
      "outputs": []
    },
    {
      "cell_type": "code",
      "source": [],
      "metadata": {
        "id": "ndvCcjlOaKd4"
      },
      "execution_count": 72,
      "outputs": []
    },
    {
      "cell_type": "markdown",
      "source": [
        "### **Examiner Agent**\n",
        "\n",
        "Prompts:\n",
        "\n",
        "1: *You are a reviewer trained to look for mistakes from analysis of text in relation to predefined labeles. Here are the categories, their meanings.*\n",
        "\n",
        "2: *Examine the answer and check if it is correct based on the text*\n",
        "\n",
        "3: *If the answer for the text is correct then simply output the original answer in the same format.*\n",
        "\n",
        "4: *If it is not correct then provide an appropriate answer in the same format.*\n",
        "\n",
        "5: *Output JSON with Key being the Category and Value being your reason. Do not include any JSON formatting or code block markers.*\n",
        "\n",
        "6: *Only use information which was provided here.*\n"
      ],
      "metadata": {
        "id": "7R7Dn0MxY_M6"
      }
    },
    {
      "cell_type": "code",
      "source": [
        "def examiner_agent(text, given_catigories, answer):\n",
        "  prompt = \"You are a reviewer trained to look for mistakes from analysis of text in relation to predefined labeles. Here are the categories, their meanings:\\n\\n\"\n",
        "\n",
        "  for category, meaning in given_catigories.items():\n",
        "    prompt += f\"{category}: {meaning}\\n\"\n",
        "\n",
        "  prompt += \"\\Examine the answer: \\\" \" + answer + \"\\\", and check if it is correct based on the text:\\\" \" + text + \"\\\".\"\n",
        "  prompt += \"\\If the answer: \\\" \" + answer + \"\\\", for the text: \\\" \" + text + \"\\\" is correct then simply output the original answer in the same format. \"\n",
        "  prompt += \"\\If it is not correct then provide an appropriate answer in the same format\"\n",
        "  prompt += \"\\Output JSON with Key being the Category and Value being your reason. Do not include any JSON formatting or code block markers.\"\n",
        "  prompt += \"\\Only use information which was provided here.\"\n",
        "\n",
        "  return prompt"
      ],
      "metadata": {
        "id": "UR27nwl_cntc"
      },
      "execution_count": 73,
      "outputs": []
    },
    {
      "cell_type": "code",
      "source": [],
      "metadata": {
        "id": "cjygRLdJY8hh"
      },
      "execution_count": 73,
      "outputs": []
    },
    {
      "cell_type": "code",
      "source": [],
      "metadata": {
        "id": "A99wYZJbY8rS"
      },
      "execution_count": 73,
      "outputs": []
    },
    {
      "cell_type": "markdown",
      "source": [
        "Before applying the agents to the entire dataset, we first test an individual result to see if we receive a logically correct answer based on our defined categores as well as the reason for the choice."
      ],
      "metadata": {
        "id": "2fAUxRLfed84"
      }
    },
    {
      "cell_type": "code",
      "source": [
        "test_review = airline_reviews['Review'][45]\n",
        "test_review"
      ],
      "metadata": {
        "id": "lweXiryVfrA-",
        "colab": {
          "base_uri": "https://localhost:8080/",
          "height": 87
        },
        "outputId": "8c2046ca-65d3-4cd5-c196-51b2d0d9cdd1"
      },
      "execution_count": 74,
      "outputs": [
        {
          "output_type": "execute_result",
          "data": {
            "text/plain": [
              "'Flew in business class on Adria Airways  A319 on this short flight (1 h) from SKP to LJU. Very friendly and helpful staff - excellent business class service including a hot meal, warm bread cheese and marmalade. Better than the LH business class service. Flight arrived 25 minutes before STA - good job. Information about the route, weather and connections were given by the captain. Legroom in row 1 good, nice seats. Highly recommended this small but very functional airline.'"
            ],
            "application/vnd.google.colaboratory.intrinsic+json": {
              "type": "string"
            }
          },
          "metadata": {},
          "execution_count": 74
        }
      ]
    },
    {
      "cell_type": "markdown",
      "source": [
        "\n",
        "\n",
        "*   *From reading this review we can see that the person is talking about their \"In Flight\" experience in business class.*\n",
        "\n"
      ],
      "metadata": {
        "id": "x1Z_6S7xglI2"
      }
    },
    {
      "cell_type": "code",
      "source": [],
      "metadata": {
        "id": "GVTW0vw6NxqV"
      },
      "execution_count": 74,
      "outputs": []
    },
    {
      "cell_type": "markdown",
      "source": [
        "*Let's see how the first agent handles this review.*"
      ],
      "metadata": {
        "id": "4hQ1lqc1hCZJ"
      }
    },
    {
      "cell_type": "code",
      "source": [
        "x = text_agent(test_review, airline_review_dic_cat) #passing the review to the first agent\n",
        "\n",
        "response = get_chat_gpt_response(x)\n",
        "print(response) # Printing the result"
      ],
      "metadata": {
        "colab": {
          "base_uri": "https://localhost:8080/"
        },
        "id": "h-0Gfdb0Nxt8",
        "outputId": "b81ac965-8489-4b35-f095-6d2e6762f1fb"
      },
      "execution_count": 75,
      "outputs": [
        {
          "output_type": "stream",
          "name": "stdout",
          "text": [
            "{\n",
            "  \"In-Flight\": \"The feedback describes the in-flight experience, including the quality of service, meals, legroom, and overall comfort during the flight. It highlights the positive aspects of the business class service provided by the airline.\"\n",
            "}\n"
          ]
        }
      ]
    },
    {
      "cell_type": "markdown",
      "source": [
        "*The first agent gets the catigory current and also gives true, factual reference to the details in the review to support it's choice.*"
      ],
      "metadata": {
        "id": "aw2CKAQ0iS8j"
      }
    },
    {
      "cell_type": "code",
      "source": [],
      "metadata": {
        "id": "lUHyblihiwqo"
      },
      "execution_count": 75,
      "outputs": []
    },
    {
      "cell_type": "markdown",
      "source": [
        "*Now we pass the response onto the second agent to analyse the correctness of the response.*\n",
        "\n"
      ],
      "metadata": {
        "id": "L6QB9YfdjEzU"
      }
    },
    {
      "cell_type": "code",
      "source": [
        "response2 = examiner_agent(test_review, airline_review_dic_cat, response)\n",
        "\n",
        "responsex = get_chat_gpt_response(response2)\n",
        "print(responsex)\n"
      ],
      "metadata": {
        "id": "zNvoJpsTflN1",
        "colab": {
          "base_uri": "https://localhost:8080/"
        },
        "outputId": "ac2f4f89-2214-48d6-b5c8-ea4856a78936"
      },
      "execution_count": 76,
      "outputs": [
        {
          "output_type": "stream",
          "name": "stdout",
          "text": [
            "{\n",
            "  \"In-Flight\": \"The feedback describes the in-flight experience, including the quality of service, meals, legroom, and overall comfort during the flight. It highlights the positive aspects of the business class service provided by the airline.\"\n",
            "}\n"
          ]
        }
      ]
    },
    {
      "cell_type": "code",
      "source": [],
      "metadata": {
        "id": "s3hahk81g16A"
      },
      "execution_count": 76,
      "outputs": []
    },
    {
      "cell_type": "markdown",
      "source": [
        "*As the result is correct, no change is made to the response.*"
      ],
      "metadata": {
        "id": "ntZ-SNLtkwr0"
      }
    },
    {
      "cell_type": "code",
      "source": [],
      "metadata": {
        "id": "LifRY5ACk_F6"
      },
      "execution_count": 76,
      "outputs": []
    },
    {
      "cell_type": "markdown",
      "source": [
        "### **Automated Review Processing Pipeline**\n",
        "\n",
        "\n",
        "Here we put all the pieces together to run the complete automated review pipeline"
      ],
      "metadata": {
        "id": "Ai283j5DpiXB"
      }
    },
    {
      "cell_type": "code",
      "source": [],
      "metadata": {
        "id": "WWmOVbTLmXjA"
      },
      "execution_count": 76,
      "outputs": []
    },
    {
      "cell_type": "code",
      "source": [
        "def run_agents(text, def_catigories):\n",
        "    \"\"\"\n",
        "    Processes a list of text reviews, categorizes them, and provides reasons for the categorization.\n",
        "\n",
        "    Args:\n",
        "      text: A list of text reviews to be processed.\n",
        "      def_catigories: A predefined set of categories for the reviews.\n",
        "\n",
        "    Returns:\n",
        "      A tuple containing three lists:\n",
        "        - original_review: The original list of text reviews.\n",
        "        - category: A list of assigned categories for each review.\n",
        "        - reason: A list of reasons for the assigned category for each review.\n",
        "    \"\"\"\n",
        "\n",
        "    original_review = []\n",
        "    category = []\n",
        "    reason = []\n",
        "\n",
        "    for review in text:\n",
        "        # Generate prompt for the text agent\n",
        "        prompt = text_agent(review, def_catigories)\n",
        "\n",
        "        # Get initial response from the language model\n",
        "        response = get_chat_gpt_response(prompt)\n",
        "\n",
        "        # Examine the response using the examiner agent\n",
        "        check = examiner_agent(review, def_catigories, response)\n",
        "\n",
        "        # Get a refined response from the language model\n",
        "        response2 = get_chat_gpt_response(check)\n",
        "\n",
        "        # Extract category and reason from the response\n",
        "        out_put = json.loads(response2)\n",
        "        original_review.append(review)\n",
        "        category.append(list(out_put.keys())[0])\n",
        "        reason.append(list(out_put.values())[0])\n",
        "\n",
        "    return original_review, category, reason"
      ],
      "metadata": {
        "id": "0h3r-kJWmXtL"
      },
      "execution_count": 77,
      "outputs": []
    },
    {
      "cell_type": "code",
      "source": [],
      "metadata": {
        "id": "0EMazVjep5-j"
      },
      "execution_count": 77,
      "outputs": []
    },
    {
      "cell_type": "markdown",
      "source": [
        "*The results are then stored in a pandas dataframe with the Original review, predicted category and given reason.*"
      ],
      "metadata": {
        "id": "0aZIScCKsJDh"
      }
    },
    {
      "cell_type": "code",
      "source": [
        "original_review, category, reason = run_agents(airline_reviews_subset['Review'], airline_review_dic_cat)\n",
        "summary_dataset = pd.DataFrame({'original_review': original_review, 'category': category, 'reason': reason})\n",
        "\n"
      ],
      "metadata": {
        "id": "b5OhqN1iYzQi"
      },
      "execution_count": null,
      "outputs": []
    },
    {
      "cell_type": "code",
      "source": [
        "summary_dataset.head(15)"
      ],
      "metadata": {
        "colab": {
          "base_uri": "https://localhost:8080/",
          "height": 1000
        },
        "id": "z7MAYInXsgvo",
        "outputId": "9f18a8c3-433e-4d02-bb08-c0a86b633345"
      },
      "execution_count": 80,
      "outputs": [
        {
          "output_type": "execute_result",
          "data": {
            "text/plain": [
              "                                                                                                                                                                                                                                                                                                                                                                                                                                                                                                                                                                                                                                                                                                                                                                                                                                                                                                                                                                                                                                                                                                                                                                                                                                                                                                                                                                                                                                                                                                                                                                                                                                                 original_review  \\\n",
              "0                                                                                                                                                                                                                                                                                                                                                                                        Manchester to New York JFK was operated by AirTanker. This aircraft had excellent seat pitch, thanks to slim line seating, a complimentary bottle of water was in the seat pocket on boarding. There was WiFi screening of entertainment via an app, which worked. There are no individual tv screens in the seat backs in this particular aircraft. Food was identical to the offerings you'd expect on BA, AA or UA, basic but ok. All beverages were chargeable, except tea/ coffee with meal. The return from New York was a Thomas Cook aircraft which had individual tv screens in the seat backs. On boarding water bottle, pillow and blanket were placed on seat. Leg room was excellent. On take off and cheese and tomato sandwich, followed by a drinks service were provided. Then crew dimmed the lights for three hours allowing passengers to attempt to sleep. An hour and half prior to landing in Manchester a hot breakfast of scrambled eggs etc was served. On both flights departed and arrived on time and had crew who were friendly and professional. The ticket was Â£400/500 cheaper than the other airlines (VS & UA) who fly the MAN NYC route. Would I recommend? Yes. Have already rebooked for June next year, but in premium economy.   \n",
              "1                                                                                                                                                                                                                                                                                                                                                                                                                                                                                                                                                                                                                                                                                                                                                                                                                                                                                                                                                                                                                                                                                                     Arrived at Kona airport with Hawaiian taking us to connect on Oahu with united to California. Had first class tickets upgraded with United points. They tried to charge us for all our bags even though our ticket clearly stated our luggage was free. We asked for a supervisor who still refused to do anything. Finally agree but had delayed us so long we missed our flight. To add insult to injury they stuck us in economy on the next flight. Interesting to see they do not honor United premier or upgrades. Pretty unhappy with desk service!   \n",
              "2                                                                                                                                                                                                                                                                                                                                                                                                                                                                                                                                                                                                                                                                                                                                                                                                                While airlines all over the world are considering how to reduce costs, Hainan Airlines can maintain high standards of service under the epidemic. I took a flight from Toronto to Xiâ€™an on January 24. In fact, I am a Gold Card member of China Eastern Airline, I have not taken a lot with Hainan Air in recent years. However, when I am boarding this time, every flight attendant I met with practical action proves that Hainan Airlines offers the best service in mainland China. I appreciate the two flight attendants in the front cabin. My mobile phone accidentally dropped while I was sleeping, a flight attendant in the front cabin calmed my emotions and called his colleague to help me find it together. I have now returned to China, and I believe that Hainan Airlines will be my priority when I travel next time.   \n",
              "3                                             Cancun to Milan via Miami. We were six counting a handicap person and an infant (2 years). Our flight took off delayed of one hour from Cancun, when we finally arrived in MIA we had only about 1 hour to the connection. So then the 1st soap opera began, no one came to take my stepfather (the handicap) at the plane, after 10 min some one came and left him at a place with others, then the lady from AA said we should reschedule our flight home for the other day, after a brief discussion she called someone and he and my mother went one way and my sister, niece and brother in law in another. We used the APC (Automated Passport Control) and went to the line, or should i say lines, i went one way. then security control. We all met after SC and went to the gate, there the second soap opera began. apparently some battery had to be changed and after multiple delays, emails, and texts and about 3 hours waiting later they decided to change the airplane, so we had to change gates too. more one hour waiting. So boarding began and after everyone were cozy (as much as you can be on a old AA aircraft) all kinds of excuses began. 1st was that we were waiting the green light from Dallas 2nd the hours of the pilots were over so they had to call other, then it was the time of the crew (they cancelled a flight to Rio so they came to our plane) all that took us about 4 hours inside the aircraft and all they offered us was a glass of water. i can say with certainty that i will never set foot on a AA plane again, i don't care how much more i have to pay,   \n",
              "4                                                                                                                                                                                                                                                                                                                                                                                                                                                                                                                                                                                                                                                                                                                                                                                                                                                                                                                                                                                              Paris to Barcelona return. Outbound flight 2.5 hours late. For the return segment we arrived at the airport 1.5 hours prior to the flight and were told we were on stand by because the flight was oversold. They did not apologize or try to accommodate us or explain the alternatives - merely told us we had to wait and it is their right to overbook. Customer service dismissed me. With a lot of drama we managed to get onboard. This is a cheap airline and you get what you pay for. There is no service onboard or on the ground. I consistently fly over 150000 miles a year and the last time I was denied boarding due to overbooking was in 1994!   \n",
              "5                                                                                                                                                                                                                                                                                                                                                                                                                                                                                                                                                                                                                                                                                                                                                                                                                                                                                                                                                                                                                                                                                                                                                                                                                                                                                                                                                                                                                                                                          Another nice flight with Garuda from CGK-PKU with GA 178 on April 20. Great foods friendly and nice FA's smooth take off and landed and on time. The airplane was new and very clean.   \n",
              "6                                                                                                                                                                                                                                                                                                                                                                                                                                                                                                                                                                                                                                                    Taipei to Beijing via Houston, we looked for a ticket not expensive and comfortable as we were traveling as a family with a 3 yrs old kid. I found that Air China was offering cheap ticket and transfer hotel accommodation at Beijing if your transfer time is over 7 hrs. Beijing is really cold in November at night even for adults, imagine the kids. We arrived Beijing at 00:30 for transfer and waited 1 hr in line for security check with a kid sleeping in my arms. Asked officers for priority line but none of them cared about us!! For transfer hotel you have to apply transfer visa which is an easy process i experienced before however this time the lady officer even without checking our passports carelessly and without expressing not even a little responsibility said I will not give you visa! Then i went to Air China desk, but they didnt even try a bit to help, we paid ourselves for hourly hotel to at least let baby sleep in warm. I never ever recommend Air China.   \n",
              "7                                                                                                                                                                                                                                                                                                                                                                   We had a short flight from Vancouver to Calgary with Air Transat. Our flight was hopping around from Toronto to Calgary to Vancouver and onwards, which explained the delay that we experienced, as the flight had just left Toronto when we arrived at our designated time at Calgary Airport (not a good sign). However, we did not know this until we heard the person ahead of us getting frustrated with the ground staff over the delay. The departures board had not been updated and still showed the original time. Furthermore, when we received our boarding passes from the ground crew, the boarding pass still showed the original time and the ground staff said nothing. We then pressed the ground staff for more answers, after which they finally replied, \"oh yeah, its delayed. Yup.\" Their complete indifference, in addition to failure to update the passengers, led to many of the customers in line losing their patience with the staff. We did not receive any updates on the estimated departure time until we were in the waiting area near the gate. On the flight itself, the seats were uncomfortable and the plane outdated. No inflight entertainment, as expected. The only thing that made all this acceptable was the very cheap price of the tickets.   \n",
              "8                                                                                                                                                                                                                                                                                                                                                                                                                                                                                                                                                                                                                                                                                                                                                                                                                                                                                                                                                                                                                                                                                                                                                                       Singapore to Hanoi. This was for sure the best flight we ever had! Starting with the food: as vegetetarians we were offered a wide range of delicious Asian dishes. The portions were large, we got 2 starters, one main, 2 desserts plus snacks on a only 2 h 30min flight. Furthermore the cabin crew was outstandingly attentive, polite and friendly. We were on the flight SQ188 from Singapore to Hanoi on 25/01/19. Thank you to the crew once more for this pleasant experience!   \n",
              "9                                                                                                                                                                                                                                                                                                                                                                                                                                                                                                                                                                                                                                                                                                                                                                                                                                                                                                                                                                                                                                                                                                                                                                                                                                                                                                                                                                                                                       Flew Glasgow to Toronto and back definitely no frills but took off on time outbound and inbound food okay didn't use the entertainment as it is old style screens. Didn't get any more or less than expected. Would fly with them again.   \n",
              "10  Gold Coast - Kuala Lumpur return. I flew economy out and Premium return. To avoid check-in queues I recommend the online check in it took 5 minutes at the luggage drop. Economy is a fairly comfortable although legroom is tight and for tall passengers I recommend paying the extra amount for one of the \"hot seats\" (either front rows or exit rows). The check-in did offer to block off 3 economy seats for me for an extra fee (as there was space on flight) but as a day flight I did not need to sleep. I was very impressed with the meal which also comes with a bottle of water. Other onboard food purchase items reasonably priced and a fair variety. I was looking forward to my return flight in Premium class. No need to do online check-in for Premium as there is a dedicated check-in queue for maximum of 12 Premium passengers. No business lounge for Air Asia X (pay per entry Plaza Premium Lounge available). Onboard staff offered a bottle of water lots of overhead space with only 12 passengers in the premium cabin. All passengers given a blanket and cushion. After takeoff staff offered to serve meal at a time of my choice. They also offered to hold any additional food items that I may want later in the flight. The standard meal is the same as that offered in economy class. The main benefit of Premium is the almost lie flat seat. Upon arrival we were able to exit the plane first get through passport control before other passengers. I have flown Air Asia X a number of times since their launch a few years ago and will definitely aim to fly Premium again on my future Air Asia X flights.   \n",
              "11                                                                                                                                                                                                                                                                                                                                                                                                                                                                                                                                                                                                                                                                                                                                                                                                                                                                                                                                                                                                                                                                                                                                                           We flew to Fuerteventura for Oct half term. Flight out was ok but the flight back TCX6335 was delayed for 23 hours due to a technical fault. Having sat on the tarmac for 2 hours we were sent to a shabby hotel for the night. Children on the flight back had to pay for earphones despite the horrendous delay. This is not the way to treat your customers. We will not book with Thomas Cook again. Finally got home at 2am on Monday morning when we should have been back on Saturday night.   \n",
              "12                                                                                                                                                                                                                                                                                                                                                                                                                                                                                                                                                                                                                                                                                                                                                                                                                                                                        Luton - Skopje - Budapest - Luton. Wizz Air is an excellent no-frills budget airline. Flights for all sectors were on time. Boarding was efficient and good to see that Wizz Air staff ensure that priority passengers are actually given priority in boarding. Cabin crew were business-like and pleasant. Announcements from the flight deck were audible and informative. Wizz Air sent useful SMS the day prior to the flight home advising of possible air-traffic delays (which did not materialise). Most of the low marks awarded to Wizz Air on Skytrax appear to be attributable to the fact that customers do not (or can not) read the terms and conditions (T&C) attaching to the tickets. Read and understand the T&C and Wizz Air provides excellent value and service.   \n",
              "13               Amsterdam to Billund. This trip was made in conjunction with the phase out of the Fokker F70 in KLM Cityhopper service. I deliberately booked this flight as a last salute to one of my favourite aircraft in which I logged almost 150 flights in the last 10 years. The outbound flight from Amsterdam to Billund was with a KLM mainline Boeing 737, nothing special, on time departure and arrival with the standard onboard service of a coffee and a snack. The return flight, in this case the very last Fokker 70 flight from Billund to Amsterdam ever started as a complete let-down at the gate, business as usual, just a bunch of absolutely unfriendly gate agents. However when boarding the aircraft everything changed totally. The aircraft cabin was decorated with little flags and once all passengers boarded, the captain entered the cabin and welcomed all passengers and explained why this flight was a special event. It was also the entire crew's last flight on the Fokker 70. Upon departure to the main runway we received a water salute from the Billund fire brigade, followed by a very powerful take-off and a low-level bye bye pass over the airport. Onboard service during the flight was standard but the cabin crew did everything to make the flight memorable, well done! Landing in Amsterdam was on the rarely used Eastern runway which is the runway used in the past by the Fokker company to test fly and deliver their aircraft to their customers. Upon disembarking all passengers were personally greeted by the captain and both cabin crew. We will miss the faithful little Fokkers!   \n",
              "14                                                                                                                                                                                                                                                                                                                                                                                                                                                                                                                                                                                                                                                                                                                                                                                                                                                                                                                                                                                                                                                                                                                                                                                                                                              Thai Airways late arriving into Zurich and missed LH connection to FRA. Swiss rerouted ticket ZRH to ORD and I must say I was pleasantly surprised at how improved the Swiss Air service was (used to fly them regularly 10 years ago). The Tuscan red wine was superb and chicken cardon blue was excellent even for air travel. Staff were very friendly and helpful to both my wife and I. LX008 on 29 April.   \n",
              "\n",
              "                  category  \\\n",
              "0                In-Flight   \n",
              "1           At the Airport   \n",
              "2                In-Flight   \n",
              "3           At the Airport   \n",
              "4           At the Airport   \n",
              "5                In-Flight   \n",
              "6           At the Airport   \n",
              "7   Pre-Flight Preparation   \n",
              "8                In-Flight   \n",
              "9                In-Flight   \n",
              "10  Pre-Flight Preparation   \n",
              "11             Post-Flight   \n",
              "12  Pre-Flight Preparation   \n",
              "13               In-Flight   \n",
              "14               In-Flight   \n",
              "\n",
              "                                                                                                                                                                                                                                                                                                                                                                                                                                                                                              reason  \n",
              "0                                                                                                                                                                                                                                                                            The feedback discusses the in-flight experience, including seat comfort, entertainment options, food and beverage service, and the professionalism of the crew during the flights from Manchester to New York and back.  \n",
              "1                                                                                                                                                                                                                                                     The feedback accurately describes the experience at the airport regarding baggage charges despite having a free luggage allowance, interactions with airline staff, and the resulting missed flight due to delays caused by the baggage issue.  \n",
              "2                                                                                                                                                                                                                                                                              The feedback highlights the excellent service provided by flight attendants during the flight, including assistance with a dropped mobile phone, which falls under the in-flight experience related to cabin service.  \n",
              "3                                                                                                                                                                                                                                                        The feedback describes experiences related to arriving at the airport, going through security, and dealing with delays and issues during the connection process, including the handling of a handicap person and the confusion at the gate.  \n",
              "4                                                                                                                                                                          The feedback discusses arriving at the airport 1.5 hours prior to the flight and being placed on standby due to overbooking, which falls under the experience at the airport before boarding the flight. It also mentions the lack of customer service regarding this issue, which is relevant to the airport experience.  \n",
              "5                                                                                                                                                                                                                    The feedback mentions great food, friendly flight attendants, and a smooth takeoff and landing, which are all experiences related to the service and comfort during the flight itself. It also notes the cleanliness of the airplane, contributing to the in-flight experience.  \n",
              "6                                                                                                                                                                                                                                                                The feedback describes the experience of waiting in line for security checks, issues with obtaining a transfer visa, and lack of assistance from Air China staff, all of which occurred at the airport during the transfer process.  \n",
              "7   The feedback discusses issues with the boarding passes showing incorrect times and lack of communication from ground staff about the flight delay, which relates to the experience of information provided before the flight, but it does not specifically address the booking process or the functionality of the website. Therefore, it is more appropriate to categorize this under 'At the Airport' as it involves experiences at the airport regarding delays and communication from staff.  \n",
              "8                                                                                                                                                                                                                                                                        The feedback highlights the excellent in-flight service, specifically mentioning the variety and quality of food offered to vegetarians, as well as the attentiveness and friendliness of the cabin crew during the flight.  \n",
              "9                                    The feedback mentions the in-flight experience, specifically regarding food quality and entertainment options. However, it indicates a lack of satisfaction with the entertainment due to old style screens and describes the overall experience as 'no frills'. Therefore, while it does reflect some aspects of the in-flight experience, it does not convey a strong sense of satisfaction with the service, which makes the original assessment misleading.  \n",
              "10                                                                                                                                                                                                                                                                                                                The user discusses online check-in, seat selection, and the option to block off economy seats for an extra fee, indicating their experience with the booking and check-in process.  \n",
              "11                                                                                                                                                                                                                                                                The feedback discusses the experience after the flight, specifically the significant delay, being sent to a hotel, and the overall dissatisfaction with the treatment received, which all occurred after the flight was completed.  \n",
              "12                                                 The feedback mentions the importance of understanding the terms and conditions (T&C) of Wizz Air tickets, which relates to the experience of booking and preparing for the flight. However, the mention of the efficiency of the boarding process is more relevant to the Boarding and Takeoff category rather than Pre-Flight Preparation. Therefore, the original answer is partially correct but misclassifies the boarding efficiency aspect.  \n",
              "13                                                                                                                                                                                                                                                         The experience includes mentions of onboard service, the cabin crew's efforts to make the flight memorable, and the special event surrounding the last Fokker 70 flight. It also describes the take-off and the flight experience itself.  \n",
              "14                                                                                                                                                                                                                                     The feedback mentions the in-flight service of Swiss Air, highlighting the quality of meals (Tuscan red wine and chicken cordon bleu) and the friendliness of the staff, which falls under the In-Flight category regarding service experienced in the cabin.  "
            ],
            "text/html": [
              "\n",
              "  <div id=\"df-ae3ddc67-3cb0-4c8f-862b-d0db7fa19e93\" class=\"colab-df-container\">\n",
              "    <div>\n",
              "<style scoped>\n",
              "    .dataframe tbody tr th:only-of-type {\n",
              "        vertical-align: middle;\n",
              "    }\n",
              "\n",
              "    .dataframe tbody tr th {\n",
              "        vertical-align: top;\n",
              "    }\n",
              "\n",
              "    .dataframe thead th {\n",
              "        text-align: right;\n",
              "    }\n",
              "</style>\n",
              "<table border=\"1\" class=\"dataframe\">\n",
              "  <thead>\n",
              "    <tr style=\"text-align: right;\">\n",
              "      <th></th>\n",
              "      <th>original_review</th>\n",
              "      <th>category</th>\n",
              "      <th>reason</th>\n",
              "    </tr>\n",
              "  </thead>\n",
              "  <tbody>\n",
              "    <tr>\n",
              "      <th>0</th>\n",
              "      <td>Manchester to New York JFK was operated by AirTanker. This aircraft had excellent seat pitch, thanks to slim line seating, a complimentary bottle of water was in the seat pocket on boarding. There was WiFi screening of entertainment via an app, which worked. There are no individual tv screens in the seat backs in this particular aircraft. Food was identical to the offerings you'd expect on BA, AA or UA, basic but ok. All beverages were chargeable, except tea/ coffee with meal. The return from New York was a Thomas Cook aircraft which had individual tv screens in the seat backs. On boarding water bottle, pillow and blanket were placed on seat. Leg room was excellent. On take off and cheese and tomato sandwich, followed by a drinks service were provided. Then crew dimmed the lights for three hours allowing passengers to attempt to sleep. An hour and half prior to landing in Manchester a hot breakfast of scrambled eggs etc was served. On both flights departed and arrived on time and had crew who were friendly and professional. The ticket was Â£400/500 cheaper than the other airlines (VS &amp; UA) who fly the MAN NYC route. Would I recommend? Yes. Have already rebooked for June next year, but in premium economy.</td>\n",
              "      <td>In-Flight</td>\n",
              "      <td>The feedback discusses the in-flight experience, including seat comfort, entertainment options, food and beverage service, and the professionalism of the crew during the flights from Manchester to New York and back.</td>\n",
              "    </tr>\n",
              "    <tr>\n",
              "      <th>1</th>\n",
              "      <td>Arrived at Kona airport with Hawaiian taking us to connect on Oahu with united to California. Had first class tickets upgraded with United points. They tried to charge us for all our bags even though our ticket clearly stated our luggage was free. We asked for a supervisor who still refused to do anything. Finally agree but had delayed us so long we missed our flight. To add insult to injury they stuck us in economy on the next flight. Interesting to see they do not honor United premier or upgrades. Pretty unhappy with desk service!</td>\n",
              "      <td>At the Airport</td>\n",
              "      <td>The feedback accurately describes the experience at the airport regarding baggage charges despite having a free luggage allowance, interactions with airline staff, and the resulting missed flight due to delays caused by the baggage issue.</td>\n",
              "    </tr>\n",
              "    <tr>\n",
              "      <th>2</th>\n",
              "      <td>While airlines all over the world are considering how to reduce costs, Hainan Airlines can maintain high standards of service under the epidemic. I took a flight from Toronto to Xiâ€™an on January 24. In fact, I am a Gold Card member of China Eastern Airline, I have not taken a lot with Hainan Air in recent years. However, when I am boarding this time, every flight attendant I met with practical action proves that Hainan Airlines offers the best service in mainland China. I appreciate the two flight attendants in the front cabin. My mobile phone accidentally dropped while I was sleeping, a flight attendant in the front cabin calmed my emotions and called his colleague to help me find it together. I have now returned to China, and I believe that Hainan Airlines will be my priority when I travel next time.</td>\n",
              "      <td>In-Flight</td>\n",
              "      <td>The feedback highlights the excellent service provided by flight attendants during the flight, including assistance with a dropped mobile phone, which falls under the in-flight experience related to cabin service.</td>\n",
              "    </tr>\n",
              "    <tr>\n",
              "      <th>3</th>\n",
              "      <td>Cancun to Milan via Miami. We were six counting a handicap person and an infant (2 years). Our flight took off delayed of one hour from Cancun, when we finally arrived in MIA we had only about 1 hour to the connection. So then the 1st soap opera began, no one came to take my stepfather (the handicap) at the plane, after 10 min some one came and left him at a place with others, then the lady from AA said we should reschedule our flight home for the other day, after a brief discussion she called someone and he and my mother went one way and my sister, niece and brother in law in another. We used the APC (Automated Passport Control) and went to the line, or should i say lines, i went one way. then security control. We all met after SC and went to the gate, there the second soap opera began. apparently some battery had to be changed and after multiple delays, emails, and texts and about 3 hours waiting later they decided to change the airplane, so we had to change gates too. more one hour waiting. So boarding began and after everyone were cozy (as much as you can be on a old AA aircraft) all kinds of excuses began. 1st was that we were waiting the green light from Dallas 2nd the hours of the pilots were over so they had to call other, then it was the time of the crew (they cancelled a flight to Rio so they came to our plane) all that took us about 4 hours inside the aircraft and all they offered us was a glass of water. i can say with certainty that i will never set foot on a AA plane again, i don't care how much more i have to pay,</td>\n",
              "      <td>At the Airport</td>\n",
              "      <td>The feedback describes experiences related to arriving at the airport, going through security, and dealing with delays and issues during the connection process, including the handling of a handicap person and the confusion at the gate.</td>\n",
              "    </tr>\n",
              "    <tr>\n",
              "      <th>4</th>\n",
              "      <td>Paris to Barcelona return. Outbound flight 2.5 hours late. For the return segment we arrived at the airport 1.5 hours prior to the flight and were told we were on stand by because the flight was oversold. They did not apologize or try to accommodate us or explain the alternatives - merely told us we had to wait and it is their right to overbook. Customer service dismissed me. With a lot of drama we managed to get onboard. This is a cheap airline and you get what you pay for. There is no service onboard or on the ground. I consistently fly over 150000 miles a year and the last time I was denied boarding due to overbooking was in 1994!</td>\n",
              "      <td>At the Airport</td>\n",
              "      <td>The feedback discusses arriving at the airport 1.5 hours prior to the flight and being placed on standby due to overbooking, which falls under the experience at the airport before boarding the flight. It also mentions the lack of customer service regarding this issue, which is relevant to the airport experience.</td>\n",
              "    </tr>\n",
              "    <tr>\n",
              "      <th>5</th>\n",
              "      <td>Another nice flight with Garuda from CGK-PKU with GA 178 on April 20. Great foods friendly and nice FA's smooth take off and landed and on time. The airplane was new and very clean.</td>\n",
              "      <td>In-Flight</td>\n",
              "      <td>The feedback mentions great food, friendly flight attendants, and a smooth takeoff and landing, which are all experiences related to the service and comfort during the flight itself. It also notes the cleanliness of the airplane, contributing to the in-flight experience.</td>\n",
              "    </tr>\n",
              "    <tr>\n",
              "      <th>6</th>\n",
              "      <td>Taipei to Beijing via Houston, we looked for a ticket not expensive and comfortable as we were traveling as a family with a 3 yrs old kid. I found that Air China was offering cheap ticket and transfer hotel accommodation at Beijing if your transfer time is over 7 hrs. Beijing is really cold in November at night even for adults, imagine the kids. We arrived Beijing at 00:30 for transfer and waited 1 hr in line for security check with a kid sleeping in my arms. Asked officers for priority line but none of them cared about us!! For transfer hotel you have to apply transfer visa which is an easy process i experienced before however this time the lady officer even without checking our passports carelessly and without expressing not even a little responsibility said I will not give you visa! Then i went to Air China desk, but they didnt even try a bit to help, we paid ourselves for hourly hotel to at least let baby sleep in warm. I never ever recommend Air China.</td>\n",
              "      <td>At the Airport</td>\n",
              "      <td>The feedback describes the experience of waiting in line for security checks, issues with obtaining a transfer visa, and lack of assistance from Air China staff, all of which occurred at the airport during the transfer process.</td>\n",
              "    </tr>\n",
              "    <tr>\n",
              "      <th>7</th>\n",
              "      <td>We had a short flight from Vancouver to Calgary with Air Transat. Our flight was hopping around from Toronto to Calgary to Vancouver and onwards, which explained the delay that we experienced, as the flight had just left Toronto when we arrived at our designated time at Calgary Airport (not a good sign). However, we did not know this until we heard the person ahead of us getting frustrated with the ground staff over the delay. The departures board had not been updated and still showed the original time. Furthermore, when we received our boarding passes from the ground crew, the boarding pass still showed the original time and the ground staff said nothing. We then pressed the ground staff for more answers, after which they finally replied, \"oh yeah, its delayed. Yup.\" Their complete indifference, in addition to failure to update the passengers, led to many of the customers in line losing their patience with the staff. We did not receive any updates on the estimated departure time until we were in the waiting area near the gate. On the flight itself, the seats were uncomfortable and the plane outdated. No inflight entertainment, as expected. The only thing that made all this acceptable was the very cheap price of the tickets.</td>\n",
              "      <td>Pre-Flight Preparation</td>\n",
              "      <td>The feedback discusses issues with the boarding passes showing incorrect times and lack of communication from ground staff about the flight delay, which relates to the experience of information provided before the flight, but it does not specifically address the booking process or the functionality of the website. Therefore, it is more appropriate to categorize this under 'At the Airport' as it involves experiences at the airport regarding delays and communication from staff.</td>\n",
              "    </tr>\n",
              "    <tr>\n",
              "      <th>8</th>\n",
              "      <td>Singapore to Hanoi. This was for sure the best flight we ever had! Starting with the food: as vegetetarians we were offered a wide range of delicious Asian dishes. The portions were large, we got 2 starters, one main, 2 desserts plus snacks on a only 2 h 30min flight. Furthermore the cabin crew was outstandingly attentive, polite and friendly. We were on the flight SQ188 from Singapore to Hanoi on 25/01/19. Thank you to the crew once more for this pleasant experience!</td>\n",
              "      <td>In-Flight</td>\n",
              "      <td>The feedback highlights the excellent in-flight service, specifically mentioning the variety and quality of food offered to vegetarians, as well as the attentiveness and friendliness of the cabin crew during the flight.</td>\n",
              "    </tr>\n",
              "    <tr>\n",
              "      <th>9</th>\n",
              "      <td>Flew Glasgow to Toronto and back definitely no frills but took off on time outbound and inbound food okay didn't use the entertainment as it is old style screens. Didn't get any more or less than expected. Would fly with them again.</td>\n",
              "      <td>In-Flight</td>\n",
              "      <td>The feedback mentions the in-flight experience, specifically regarding food quality and entertainment options. However, it indicates a lack of satisfaction with the entertainment due to old style screens and describes the overall experience as 'no frills'. Therefore, while it does reflect some aspects of the in-flight experience, it does not convey a strong sense of satisfaction with the service, which makes the original assessment misleading.</td>\n",
              "    </tr>\n",
              "    <tr>\n",
              "      <th>10</th>\n",
              "      <td>Gold Coast - Kuala Lumpur return. I flew economy out and Premium return. To avoid check-in queues I recommend the online check in it took 5 minutes at the luggage drop. Economy is a fairly comfortable although legroom is tight and for tall passengers I recommend paying the extra amount for one of the \"hot seats\" (either front rows or exit rows). The check-in did offer to block off 3 economy seats for me for an extra fee (as there was space on flight) but as a day flight I did not need to sleep. I was very impressed with the meal which also comes with a bottle of water. Other onboard food purchase items reasonably priced and a fair variety. I was looking forward to my return flight in Premium class. No need to do online check-in for Premium as there is a dedicated check-in queue for maximum of 12 Premium passengers. No business lounge for Air Asia X (pay per entry Plaza Premium Lounge available). Onboard staff offered a bottle of water lots of overhead space with only 12 passengers in the premium cabin. All passengers given a blanket and cushion. After takeoff staff offered to serve meal at a time of my choice. They also offered to hold any additional food items that I may want later in the flight. The standard meal is the same as that offered in economy class. The main benefit of Premium is the almost lie flat seat. Upon arrival we were able to exit the plane first get through passport control before other passengers. I have flown Air Asia X a number of times since their launch a few years ago and will definitely aim to fly Premium again on my future Air Asia X flights.</td>\n",
              "      <td>Pre-Flight Preparation</td>\n",
              "      <td>The user discusses online check-in, seat selection, and the option to block off economy seats for an extra fee, indicating their experience with the booking and check-in process.</td>\n",
              "    </tr>\n",
              "    <tr>\n",
              "      <th>11</th>\n",
              "      <td>We flew to Fuerteventura for Oct half term. Flight out was ok but the flight back TCX6335 was delayed for 23 hours due to a technical fault. Having sat on the tarmac for 2 hours we were sent to a shabby hotel for the night. Children on the flight back had to pay for earphones despite the horrendous delay. This is not the way to treat your customers. We will not book with Thomas Cook again. Finally got home at 2am on Monday morning when we should have been back on Saturday night.</td>\n",
              "      <td>Post-Flight</td>\n",
              "      <td>The feedback discusses the experience after the flight, specifically the significant delay, being sent to a hotel, and the overall dissatisfaction with the treatment received, which all occurred after the flight was completed.</td>\n",
              "    </tr>\n",
              "    <tr>\n",
              "      <th>12</th>\n",
              "      <td>Luton - Skopje - Budapest - Luton. Wizz Air is an excellent no-frills budget airline. Flights for all sectors were on time. Boarding was efficient and good to see that Wizz Air staff ensure that priority passengers are actually given priority in boarding. Cabin crew were business-like and pleasant. Announcements from the flight deck were audible and informative. Wizz Air sent useful SMS the day prior to the flight home advising of possible air-traffic delays (which did not materialise). Most of the low marks awarded to Wizz Air on Skytrax appear to be attributable to the fact that customers do not (or can not) read the terms and conditions (T&amp;C) attaching to the tickets. Read and understand the T&amp;C and Wizz Air provides excellent value and service.</td>\n",
              "      <td>Pre-Flight Preparation</td>\n",
              "      <td>The feedback mentions the importance of understanding the terms and conditions (T&amp;C) of Wizz Air tickets, which relates to the experience of booking and preparing for the flight. However, the mention of the efficiency of the boarding process is more relevant to the Boarding and Takeoff category rather than Pre-Flight Preparation. Therefore, the original answer is partially correct but misclassifies the boarding efficiency aspect.</td>\n",
              "    </tr>\n",
              "    <tr>\n",
              "      <th>13</th>\n",
              "      <td>Amsterdam to Billund. This trip was made in conjunction with the phase out of the Fokker F70 in KLM Cityhopper service. I deliberately booked this flight as a last salute to one of my favourite aircraft in which I logged almost 150 flights in the last 10 years. The outbound flight from Amsterdam to Billund was with a KLM mainline Boeing 737, nothing special, on time departure and arrival with the standard onboard service of a coffee and a snack. The return flight, in this case the very last Fokker 70 flight from Billund to Amsterdam ever started as a complete let-down at the gate, business as usual, just a bunch of absolutely unfriendly gate agents. However when boarding the aircraft everything changed totally. The aircraft cabin was decorated with little flags and once all passengers boarded, the captain entered the cabin and welcomed all passengers and explained why this flight was a special event. It was also the entire crew's last flight on the Fokker 70. Upon departure to the main runway we received a water salute from the Billund fire brigade, followed by a very powerful take-off and a low-level bye bye pass over the airport. Onboard service during the flight was standard but the cabin crew did everything to make the flight memorable, well done! Landing in Amsterdam was on the rarely used Eastern runway which is the runway used in the past by the Fokker company to test fly and deliver their aircraft to their customers. Upon disembarking all passengers were personally greeted by the captain and both cabin crew. We will miss the faithful little Fokkers!</td>\n",
              "      <td>In-Flight</td>\n",
              "      <td>The experience includes mentions of onboard service, the cabin crew's efforts to make the flight memorable, and the special event surrounding the last Fokker 70 flight. It also describes the take-off and the flight experience itself.</td>\n",
              "    </tr>\n",
              "    <tr>\n",
              "      <th>14</th>\n",
              "      <td>Thai Airways late arriving into Zurich and missed LH connection to FRA. Swiss rerouted ticket ZRH to ORD and I must say I was pleasantly surprised at how improved the Swiss Air service was (used to fly them regularly 10 years ago). The Tuscan red wine was superb and chicken cardon blue was excellent even for air travel. Staff were very friendly and helpful to both my wife and I. LX008 on 29 April.</td>\n",
              "      <td>In-Flight</td>\n",
              "      <td>The feedback mentions the in-flight service of Swiss Air, highlighting the quality of meals (Tuscan red wine and chicken cordon bleu) and the friendliness of the staff, which falls under the In-Flight category regarding service experienced in the cabin.</td>\n",
              "    </tr>\n",
              "  </tbody>\n",
              "</table>\n",
              "</div>\n",
              "    <div class=\"colab-df-buttons\">\n",
              "\n",
              "  <div class=\"colab-df-container\">\n",
              "    <button class=\"colab-df-convert\" onclick=\"convertToInteractive('df-ae3ddc67-3cb0-4c8f-862b-d0db7fa19e93')\"\n",
              "            title=\"Convert this dataframe to an interactive table.\"\n",
              "            style=\"display:none;\">\n",
              "\n",
              "  <svg xmlns=\"http://www.w3.org/2000/svg\" height=\"24px\" viewBox=\"0 -960 960 960\">\n",
              "    <path d=\"M120-120v-720h720v720H120Zm60-500h600v-160H180v160Zm220 220h160v-160H400v160Zm0 220h160v-160H400v160ZM180-400h160v-160H180v160Zm440 0h160v-160H620v160ZM180-180h160v-160H180v160Zm440 0h160v-160H620v160Z\"/>\n",
              "  </svg>\n",
              "    </button>\n",
              "\n",
              "  <style>\n",
              "    .colab-df-container {\n",
              "      display:flex;\n",
              "      gap: 12px;\n",
              "    }\n",
              "\n",
              "    .colab-df-convert {\n",
              "      background-color: #E8F0FE;\n",
              "      border: none;\n",
              "      border-radius: 50%;\n",
              "      cursor: pointer;\n",
              "      display: none;\n",
              "      fill: #1967D2;\n",
              "      height: 32px;\n",
              "      padding: 0 0 0 0;\n",
              "      width: 32px;\n",
              "    }\n",
              "\n",
              "    .colab-df-convert:hover {\n",
              "      background-color: #E2EBFA;\n",
              "      box-shadow: 0px 1px 2px rgba(60, 64, 67, 0.3), 0px 1px 3px 1px rgba(60, 64, 67, 0.15);\n",
              "      fill: #174EA6;\n",
              "    }\n",
              "\n",
              "    .colab-df-buttons div {\n",
              "      margin-bottom: 4px;\n",
              "    }\n",
              "\n",
              "    [theme=dark] .colab-df-convert {\n",
              "      background-color: #3B4455;\n",
              "      fill: #D2E3FC;\n",
              "    }\n",
              "\n",
              "    [theme=dark] .colab-df-convert:hover {\n",
              "      background-color: #434B5C;\n",
              "      box-shadow: 0px 1px 3px 1px rgba(0, 0, 0, 0.15);\n",
              "      filter: drop-shadow(0px 1px 2px rgba(0, 0, 0, 0.3));\n",
              "      fill: #FFFFFF;\n",
              "    }\n",
              "  </style>\n",
              "\n",
              "    <script>\n",
              "      const buttonEl =\n",
              "        document.querySelector('#df-ae3ddc67-3cb0-4c8f-862b-d0db7fa19e93 button.colab-df-convert');\n",
              "      buttonEl.style.display =\n",
              "        google.colab.kernel.accessAllowed ? 'block' : 'none';\n",
              "\n",
              "      async function convertToInteractive(key) {\n",
              "        const element = document.querySelector('#df-ae3ddc67-3cb0-4c8f-862b-d0db7fa19e93');\n",
              "        const dataTable =\n",
              "          await google.colab.kernel.invokeFunction('convertToInteractive',\n",
              "                                                    [key], {});\n",
              "        if (!dataTable) return;\n",
              "\n",
              "        const docLinkHtml = 'Like what you see? Visit the ' +\n",
              "          '<a target=\"_blank\" href=https://colab.research.google.com/notebooks/data_table.ipynb>data table notebook</a>'\n",
              "          + ' to learn more about interactive tables.';\n",
              "        element.innerHTML = '';\n",
              "        dataTable['output_type'] = 'display_data';\n",
              "        await google.colab.output.renderOutput(dataTable, element);\n",
              "        const docLink = document.createElement('div');\n",
              "        docLink.innerHTML = docLinkHtml;\n",
              "        element.appendChild(docLink);\n",
              "      }\n",
              "    </script>\n",
              "  </div>\n",
              "\n",
              "\n",
              "<div id=\"df-a0cc6348-0c94-4a9d-a01a-7d0f0a410934\">\n",
              "  <button class=\"colab-df-quickchart\" onclick=\"quickchart('df-a0cc6348-0c94-4a9d-a01a-7d0f0a410934')\"\n",
              "            title=\"Suggest charts\"\n",
              "            style=\"display:none;\">\n",
              "\n",
              "<svg xmlns=\"http://www.w3.org/2000/svg\" height=\"24px\"viewBox=\"0 0 24 24\"\n",
              "     width=\"24px\">\n",
              "    <g>\n",
              "        <path d=\"M19 3H5c-1.1 0-2 .9-2 2v14c0 1.1.9 2 2 2h14c1.1 0 2-.9 2-2V5c0-1.1-.9-2-2-2zM9 17H7v-7h2v7zm4 0h-2V7h2v10zm4 0h-2v-4h2v4z\"/>\n",
              "    </g>\n",
              "</svg>\n",
              "  </button>\n",
              "\n",
              "<style>\n",
              "  .colab-df-quickchart {\n",
              "      --bg-color: #E8F0FE;\n",
              "      --fill-color: #1967D2;\n",
              "      --hover-bg-color: #E2EBFA;\n",
              "      --hover-fill-color: #174EA6;\n",
              "      --disabled-fill-color: #AAA;\n",
              "      --disabled-bg-color: #DDD;\n",
              "  }\n",
              "\n",
              "  [theme=dark] .colab-df-quickchart {\n",
              "      --bg-color: #3B4455;\n",
              "      --fill-color: #D2E3FC;\n",
              "      --hover-bg-color: #434B5C;\n",
              "      --hover-fill-color: #FFFFFF;\n",
              "      --disabled-bg-color: #3B4455;\n",
              "      --disabled-fill-color: #666;\n",
              "  }\n",
              "\n",
              "  .colab-df-quickchart {\n",
              "    background-color: var(--bg-color);\n",
              "    border: none;\n",
              "    border-radius: 50%;\n",
              "    cursor: pointer;\n",
              "    display: none;\n",
              "    fill: var(--fill-color);\n",
              "    height: 32px;\n",
              "    padding: 0;\n",
              "    width: 32px;\n",
              "  }\n",
              "\n",
              "  .colab-df-quickchart:hover {\n",
              "    background-color: var(--hover-bg-color);\n",
              "    box-shadow: 0 1px 2px rgba(60, 64, 67, 0.3), 0 1px 3px 1px rgba(60, 64, 67, 0.15);\n",
              "    fill: var(--button-hover-fill-color);\n",
              "  }\n",
              "\n",
              "  .colab-df-quickchart-complete:disabled,\n",
              "  .colab-df-quickchart-complete:disabled:hover {\n",
              "    background-color: var(--disabled-bg-color);\n",
              "    fill: var(--disabled-fill-color);\n",
              "    box-shadow: none;\n",
              "  }\n",
              "\n",
              "  .colab-df-spinner {\n",
              "    border: 2px solid var(--fill-color);\n",
              "    border-color: transparent;\n",
              "    border-bottom-color: var(--fill-color);\n",
              "    animation:\n",
              "      spin 1s steps(1) infinite;\n",
              "  }\n",
              "\n",
              "  @keyframes spin {\n",
              "    0% {\n",
              "      border-color: transparent;\n",
              "      border-bottom-color: var(--fill-color);\n",
              "      border-left-color: var(--fill-color);\n",
              "    }\n",
              "    20% {\n",
              "      border-color: transparent;\n",
              "      border-left-color: var(--fill-color);\n",
              "      border-top-color: var(--fill-color);\n",
              "    }\n",
              "    30% {\n",
              "      border-color: transparent;\n",
              "      border-left-color: var(--fill-color);\n",
              "      border-top-color: var(--fill-color);\n",
              "      border-right-color: var(--fill-color);\n",
              "    }\n",
              "    40% {\n",
              "      border-color: transparent;\n",
              "      border-right-color: var(--fill-color);\n",
              "      border-top-color: var(--fill-color);\n",
              "    }\n",
              "    60% {\n",
              "      border-color: transparent;\n",
              "      border-right-color: var(--fill-color);\n",
              "    }\n",
              "    80% {\n",
              "      border-color: transparent;\n",
              "      border-right-color: var(--fill-color);\n",
              "      border-bottom-color: var(--fill-color);\n",
              "    }\n",
              "    90% {\n",
              "      border-color: transparent;\n",
              "      border-bottom-color: var(--fill-color);\n",
              "    }\n",
              "  }\n",
              "</style>\n",
              "\n",
              "  <script>\n",
              "    async function quickchart(key) {\n",
              "      const quickchartButtonEl =\n",
              "        document.querySelector('#' + key + ' button');\n",
              "      quickchartButtonEl.disabled = true;  // To prevent multiple clicks.\n",
              "      quickchartButtonEl.classList.add('colab-df-spinner');\n",
              "      try {\n",
              "        const charts = await google.colab.kernel.invokeFunction(\n",
              "            'suggestCharts', [key], {});\n",
              "      } catch (error) {\n",
              "        console.error('Error during call to suggestCharts:', error);\n",
              "      }\n",
              "      quickchartButtonEl.classList.remove('colab-df-spinner');\n",
              "      quickchartButtonEl.classList.add('colab-df-quickchart-complete');\n",
              "    }\n",
              "    (() => {\n",
              "      let quickchartButtonEl =\n",
              "        document.querySelector('#df-a0cc6348-0c94-4a9d-a01a-7d0f0a410934 button');\n",
              "      quickchartButtonEl.style.display =\n",
              "        google.colab.kernel.accessAllowed ? 'block' : 'none';\n",
              "    })();\n",
              "  </script>\n",
              "</div>\n",
              "\n",
              "    </div>\n",
              "  </div>\n"
            ],
            "application/vnd.google.colaboratory.intrinsic+json": {
              "type": "dataframe",
              "variable_name": "summary_dataset",
              "summary": "{\n  \"name\": \"summary_dataset\",\n  \"rows\": 50,\n  \"fields\": [\n    {\n      \"column\": \"original_review\",\n      \"properties\": {\n        \"dtype\": \"string\",\n        \"num_unique_values\": 50,\n        \"samples\": [\n          \"Amsterdam to Billund. This trip was made in conjunction with the phase out of the Fokker F70 in KLM Cityhopper service. I deliberately booked this flight as a last salute to one of my favourite aircraft in which I logged almost 150 flights in the last 10 years. The outbound flight from Amsterdam to Billund was with a KLM mainline Boeing 737, nothing special, on time departure and arrival with the standard onboard service of a coffee and a snack. The return flight, in this case the very last Fokker 70 flight from Billund to Amsterdam ever started as a complete let-down at the gate, business as usual, just a bunch of absolutely unfriendly gate agents. However when boarding the aircraft everything changed totally. The aircraft cabin was decorated with little flags and once all passengers boarded, the captain entered the cabin and welcomed all passengers and explained why this flight was a special event. It was also the entire crew's last flight on the Fokker 70. Upon departure to the main runway we received a water salute from the Billund fire brigade, followed by a very powerful take-off and a low-level bye bye pass over the airport. Onboard service during the flight was standard but the cabin crew did everything to make the flight memorable, well done! Landing in Amsterdam was on the rarely used Eastern runway which is the runway used in the past by the Fokker company to test fly and deliver their aircraft to their customers. Upon disembarking all passengers were personally greeted by the captain and both cabin crew. We will miss the faithful little Fokkers!\",\n          \"Sacramento to Denver via Seattle. I was quite satisfied with Delta, especially during my return trip. Even though I flew the Basic Economy, they put me in decent seats. The seats were not the most comfortable, but the legroom wasn\\u00e2\\u20ac\\u2122t terrible. The onboard entertainment was wonderful with a decent variety of shows and movies. Both ground service and flight attendants were all friendly. The SEA to DEN flight did the standard drink service, but also came around two additional times: one for coffee and one for water. Overall, I was satisfied with their service and amenities. I will consider Delta for future trips.\",\n          \"CPT-LHR return. Both flights on new A330. Excellent seat comfort and lie-flat. Cabin very quiet up front even on take-off. Food very good both ways and crew attentive and friendly without being invasive. The only thing I'd mark down was the fact that no menus were loaded in London. I've flown a lot on SAA in the last 3 months and have noticed a marked improvement in food quality and variety. Passenger embarkation at LHR was clearly communicated and orderly something that should be noted by JNB ground staff. A pity the Star Alliance lounge at LHR is so tatty and uninviting.\"\n        ],\n        \"semantic_type\": \"\",\n        \"description\": \"\"\n      }\n    },\n    {\n      \"column\": \"category\",\n      \"properties\": {\n        \"dtype\": \"category\",\n        \"num_unique_values\": 5,\n        \"samples\": [\n          \"At the Airport\",\n          \"None related Category\",\n          \"Pre-Flight Preparation\"\n        ],\n        \"semantic_type\": \"\",\n        \"description\": \"\"\n      }\n    },\n    {\n      \"column\": \"reason\",\n      \"properties\": {\n        \"dtype\": \"string\",\n        \"num_unique_values\": 50,\n        \"samples\": [\n          \"The experience includes mentions of onboard service, the cabin crew's efforts to make the flight memorable, and the special event surrounding the last Fokker 70 flight. It also describes the take-off and the flight experience itself.\",\n          \"The text discusses the onboard entertainment, seating comfort, and the service provided by flight attendants, including drink service during the flight. These experiences are directly related to the in-flight category.\",\n          \"The feedback discusses seat comfort, food quality, crew attentiveness, and the cabin environment during take-off, which all relate to the in-flight experience. However, the mention of passenger embarkation is not part of the in-flight experience; it relates to the boarding process. Therefore, the original answer is partially correct but includes an incorrect element regarding passenger embarkation.\"\n        ],\n        \"semantic_type\": \"\",\n        \"description\": \"\"\n      }\n    }\n  ]\n}"
            }
          },
          "metadata": {},
          "execution_count": 80
        }
      ]
    },
    {
      "cell_type": "code",
      "source": [],
      "metadata": {
        "id": "P2kmWlcjp_zr"
      },
      "execution_count": 80,
      "outputs": []
    },
    {
      "cell_type": "markdown",
      "source": [
        "### **Visualisation of results**"
      ],
      "metadata": {
        "id": "9z84OogJvHSg"
      }
    },
    {
      "source": [
        "from matplotlib import pyplot as plt\n",
        "import seaborn as sns\n",
        "summary_dataset.groupby('category').size().plot(kind='barh', color=sns.palettes.mpl_palette('Dark2'))\n",
        "plt.gca().spines[['top', 'right',]].set_visible(False)"
      ],
      "cell_type": "code",
      "metadata": {
        "colab": {
          "base_uri": "https://localhost:8080/",
          "height": 430
        },
        "id": "KUzCt7mccqWF",
        "outputId": "f934b3bd-9824-4c54-d604-a9bd16be0fee"
      },
      "execution_count": 81,
      "outputs": [
        {
          "output_type": "display_data",
          "data": {
            "text/plain": [
              "<Figure size 640x480 with 1 Axes>"
            ],
            "image/png": "[encoded data removed]"
          },
          "metadata": {}
        }
      ]
    },
    {
      "cell_type": "markdown",
      "source": [
        "We can observe that the majority of reviews fell into the category \"In-Flight\" while \"Post-Flight\" had the least number of reviews.\n",
        "\n"
      ],
      "metadata": {
        "id": "AA-Uwjziv8MN"
      }
    },
    {
      "cell_type": "code",
      "source": [],
      "metadata": {
        "id": "BpqBirqmv2Qm"
      },
      "execution_count": 81,
      "outputs": []
    },
    {
      "cell_type": "code",
      "source": [
        "summary_dataset.loc[summary_dataset['category']==\"Post-Flight\"][['original_review','reason']].value_counts()"
      ],
      "metadata": {
        "colab": {
          "base_uri": "https://localhost:8080/",
          "height": 334
        },
        "id": "WYJYKjEeZzQP",
        "outputId": "401093e2-3f86-49bf-beee-a7cb260626dc"
      },
      "execution_count": 82,
      "outputs": [
        {
          "output_type": "execute_result",
          "data": {
            "text/plain": [
              "original_review                                                                                                                                                                                                                                                                                                                                                                                                                                                                                                                                                                                reason                                                                                                                                                                                                                                                                    \n",
              "We flew to Fuerteventura for Oct half term. Flight out was ok but the flight back TCX6335 was delayed for 23 hours due to a technical fault. Having sat on the tarmac for 2 hours we were sent to a shabby hotel for the night. Children on the flight back had to pay for earphones despite the horrendous delay. This is not the way to treat your customers. We will not book with Thomas Cook again. Finally got home at 2am on Monday morning when we should have been back on Saturday night.                                                                                            The feedback discusses the experience after the flight, specifically the significant delay, being sent to a hotel, and the overall dissatisfaction with the treatment received, which all occurred after the flight was completed.                                            1\n",
              "We recently returned from Dublin to Toronto then on to Winnipeg. Other than cutting it close due to limited staffing in Toronto our flight was excellent. Due to the rush in Toronto one of our carry ones was placed to go in the cargo hold. When we arrived in Winnipeg it stayed in Toronto they were most helpful and kind at the Winnipeg airport and we received 3 phone calls the following day in regards to the misplaced bag and it was delivered to our home. We are very thankful and more than appreciative of the service we received what a great end to a wonderful holiday.  The feedback discusses the experience after arriving in Winnipeg, specifically regarding the misplaced bag and the helpful service received at the airport, including follow-up phone calls and delivery of the bag, which all occurred after leaving the arrival airport.    1\n",
              "Name: count, dtype: int64"
            ],
            "text/html": [
              "<div>\n",
              "<style scoped>\n",
              "    .dataframe tbody tr th:only-of-type {\n",
              "        vertical-align: middle;\n",
              "    }\n",
              "\n",
              "    .dataframe tbody tr th {\n",
              "        vertical-align: top;\n",
              "    }\n",
              "\n",
              "    .dataframe thead th {\n",
              "        text-align: right;\n",
              "    }\n",
              "</style>\n",
              "<table border=\"1\" class=\"dataframe\">\n",
              "  <thead>\n",
              "    <tr style=\"text-align: right;\">\n",
              "      <th></th>\n",
              "      <th></th>\n",
              "      <th>count</th>\n",
              "    </tr>\n",
              "    <tr>\n",
              "      <th>original_review</th>\n",
              "      <th>reason</th>\n",
              "      <th></th>\n",
              "    </tr>\n",
              "  </thead>\n",
              "  <tbody>\n",
              "    <tr>\n",
              "      <th>We flew to Fuerteventura for Oct half term. Flight out was ok but the flight back TCX6335 was delayed for 23 hours due to a technical fault. Having sat on the tarmac for 2 hours we were sent to a shabby hotel for the night. Children on the flight back had to pay for earphones despite the horrendous delay. This is not the way to treat your customers. We will not book with Thomas Cook again. Finally got home at 2am on Monday morning when we should have been back on Saturday night.</th>\n",
              "      <th>The feedback discusses the experience after the flight, specifically the significant delay, being sent to a hotel, and the overall dissatisfaction with the treatment received, which all occurred after the flight was completed.</th>\n",
              "      <td>1</td>\n",
              "    </tr>\n",
              "    <tr>\n",
              "      <th>We recently returned from Dublin to Toronto then on to Winnipeg. Other than cutting it close due to limited staffing in Toronto our flight was excellent. Due to the rush in Toronto one of our carry ones was placed to go in the cargo hold. When we arrived in Winnipeg it stayed in Toronto they were most helpful and kind at the Winnipeg airport and we received 3 phone calls the following day in regards to the misplaced bag and it was delivered to our home. We are very thankful and more than appreciative of the service we received what a great end to a wonderful holiday.</th>\n",
              "      <th>The feedback discusses the experience after arriving in Winnipeg, specifically regarding the misplaced bag and the helpful service received at the airport, including follow-up phone calls and delivery of the bag, which all occurred after leaving the arrival airport.</th>\n",
              "      <td>1</td>\n",
              "    </tr>\n",
              "  </tbody>\n",
              "</table>\n",
              "</div><br><label><b>dtype:</b> int64</label>"
            ]
          },
          "metadata": {},
          "execution_count": 82
        }
      ]
    },
    {
      "cell_type": "markdown",
      "source": [
        "*From examining the \"Post-Flight\" category, we observe that there was only two marked reviews. They were both inline with the definition we defined for the post-flight category.*"
      ],
      "metadata": {
        "id": "YDh5xn9F0ADV"
      }
    },
    {
      "cell_type": "code",
      "source": [],
      "metadata": {
        "id": "lGKMw-k8yCTW"
      },
      "execution_count": 82,
      "outputs": []
    },
    {
      "cell_type": "markdown",
      "source": [
        "Below we explore the full breakdown of a random categorised review\n"
      ],
      "metadata": {
        "id": "zRBk9H5i1Fau"
      }
    },
    {
      "cell_type": "code",
      "source": [
        "print(\"Review:\",summary_dataset['original_review'][5])\n",
        "print(\"Predicted Category:\",summary_dataset['category'][5])\n",
        "print(\"Reason:\",summary_dataset['reason'][5])"
      ],
      "metadata": {
        "colab": {
          "base_uri": "https://localhost:8080/"
        },
        "id": "ozXI6rHo8Jsa",
        "outputId": "1ca699d5-b7fa-477e-b039-80ca11ca72eb"
      },
      "execution_count": 85,
      "outputs": [
        {
          "output_type": "stream",
          "name": "stdout",
          "text": [
            "Review: Another nice flight with Garuda from CGK-PKU with GA 178 on April 20. Great foods friendly and nice FA's smooth take off and landed and on time. The airplane was new and very clean.\n",
            "Predicted Category: In-Flight\n",
            "Reason: The feedback mentions great food, friendly flight attendants, and a smooth takeoff and landing, which are all experiences related to the service and comfort during the flight itself. It also notes the cleanliness of the airplane, contributing to the in-flight experience.\n"
          ]
        }
      ]
    },
    {
      "cell_type": "code",
      "source": [
        "print(\"Number of words to describe category reason:\",len(summary_dataset['reason'][5].split())) # checking if the agent respected the max number of words to be used."
      ],
      "metadata": {
        "id": "EHFCHnJK8Qet",
        "colab": {
          "base_uri": "https://localhost:8080/"
        },
        "outputId": "8d973008-a60e-4e05-b566-f61732c80df1"
      },
      "execution_count": 86,
      "outputs": [
        {
          "output_type": "stream",
          "name": "stdout",
          "text": [
            "Number of words to describe category reason: 41\n"
          ]
        }
      ]
    },
    {
      "cell_type": "code",
      "source": [],
      "metadata": {
        "id": "PKFCVk0oeJc5"
      },
      "execution_count": 84,
      "outputs": []
    },
    {
      "cell_type": "markdown",
      "source": [
        "### **Conclusion**"
      ],
      "metadata": {
        "id": "x7Us2ECM1z0E"
      }
    },
    {
      "cell_type": "markdown",
      "source": [
        "Through this simple illustration, we show how to apply ChatGpt agents to a specified labelling tasked based on categories which we defined.\n",
        "\n",
        "By using precised prompts, we were able to get correctly labled reviews in the exact format we specified."
      ],
      "metadata": {
        "id": "habDXHnD3OxA"
      }
    },
    {
      "cell_type": "code",
      "source": [],
      "metadata": {
        "id": "-HRphknB33re"
      },
      "execution_count": 84,
      "outputs": []
    }
  ]
}